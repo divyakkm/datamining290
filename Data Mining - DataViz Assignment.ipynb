{
 "metadata": {
  "name": "",
  "signature": "sha256:04bebdffea26f6fbf3acebaff1951fa806dd0376193376d737a5921c0c81bd70"
 },
 "nbformat": 3,
 "nbformat_minor": 0,
 "worksheets": [
  {
   "cells": [
    {
     "cell_type": "code",
     "collapsed": false,
     "input": [
      "from __future__ import division\n",
      "%matplotlib inline\n",
      "import matplotlib.pyplot as plt\n",
      "from pylab import figure, show\n",
      "import pandas as pd\n",
      "import seaborn as sns\n",
      "import seaborn\n",
      "sns.set_context(\"poster\")\n",
      "sns.set_style(\"whitegrid\")"
     ],
     "language": "python",
     "metadata": {},
     "outputs": []
    },
    {
     "cell_type": "code",
     "collapsed": false,
     "input": [
      " dfMaster = pd.read_csv(\"C:\\\\Dropbox\\\\Spring 2014\\\\290A - MINING\\\\Assignments\\\\Delays_d3.csv\",skiprows=0)\n",
      "dfMaster.head()\n",
      "dfMaster.sort('DepDelay_Len', inplace=True,ascending=False)\n",
      "dfPlot = dfMaster[:20]\n",
      "dfPlot"
     ],
     "language": "python",
     "metadata": {},
     "outputs": []
    },
    {
     "cell_type": "code",
     "collapsed": false,
     "input": [
      "dfPlot.groupby('Airport').DepDelay_Len.sum().plot(kind='barh')"
     ],
     "language": "python",
     "metadata": {},
     "outputs": []
    },
    {
     "cell_type": "code",
     "collapsed": false,
     "input": [
      "MeanDelay   = list(dfPlot['DepDelay_Mean'])\n",
      "width = 0.35       # the width of the bars: can also be len(x) sequence\n",
      "ind = np.arange(20)    # the x locations for the groups\n",
      "\n",
      "p1 = plt.bar(ind, MeanDelay, color='steelblue')\n",
      "\n",
      "plt.ylabel('Average Departure Delay(mins)')\n",
      "plt.xticks(ind+width/2., list(dfPlot['Airport_City']),rotation=45 )\n",
      "plt.title('Average departure delay for 20 airports with most number of delayed flights')\n",
      "\n",
      "plt.show()"
     ],
     "language": "python",
     "metadata": {},
     "outputs": []
    },
    {
     "cell_type": "code",
     "collapsed": false,
     "input": [
      "MeanDelay   = list(dfPlot['DepDelay_Len'])\n",
      "width = 0.35       # the width of the bars: can also be len(x) sequence\n",
      "ind = np.arange(20)    # the x locations for the groups\n",
      "\n",
      "p1 = plt.bar(ind, MeanDelay, color='steelblue')\n",
      "\n",
      "plt.ylabel('Count of delayed flights')\n",
      "plt.xticks(ind+width/2., list(dfPlot['Airport_City']),rotation=45 )\n",
      "plt.title('Top 20 airports with most delayed flights')\n",
      "\n",
      "plt.show()"
     ],
     "language": "python",
     "metadata": {},
     "outputs": []
    }
   ],
   "metadata": {}
  }
 ]
}